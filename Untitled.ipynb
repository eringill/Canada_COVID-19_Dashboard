{
 "cells": [
  {
   "cell_type": "code",
   "execution_count": 9,
   "metadata": {},
   "outputs": [
    {
     "name": "stdout",
     "output_type": "stream",
     "text": [
      "[{'name': 'Spot', 'age': 2, 'breed': 'Dalmatian', 'description': 'Spot is an energetic puppy who seeks fun and adventure!', 'url': 'https://codecademy-content.s3.amazonaws.com/programs/flask/introduction-to-flask/dog-spot.jpeg'}, {'name': 'Shadow', 'age': 4, 'breed': 'Border Collie', 'description': 'Eager and curious, Shadow enjoys company and can always be found tagging along at your heels!', 'url': 'https://codecademy-content.s3.amazonaws.com/programs/flask/introduction-to-flask/dog-shadow.jpeg'}]\n",
      "<h1>List of pets</h1><ul><li><a href=\"/animals/dogs/0\">Spot</a></li><li><a href=\"/animals/dogs/1\">Shadow</a></li></ul>\n"
     ]
    }
   ],
   "source": [
    "pets = {\n",
    "    'dogs': [\n",
    "        {\n",
    "            'name': 'Spot',\n",
    "            'age': 2,\n",
    "            'breed': 'Dalmatian',\n",
    "            'description': 'Spot is an energetic puppy who seeks fun and adventure!',\n",
    "            'url': 'https://codecademy-content.s3.amazonaws.com/programs/flask/introduction-to-flask/dog-spot.jpeg'\n",
    "        },\n",
    "        {\n",
    "            'name': 'Shadow',\n",
    "            'age': 4,\n",
    "            'breed': 'Border Collie',\n",
    "            'description': 'Eager and curious, Shadow enjoys company and can always be found tagging along at your heels!',\n",
    "            'url': 'https://codecademy-content.s3.amazonaws.com/programs/flask/introduction-to-flask/dog-shadow.jpeg'\n",
    "        }\n",
    "    ],\n",
    "    'cats': [\n",
    "        {\n",
    "            'name': 'Snowflake',\n",
    "            'age': 1,\n",
    "            'breed': 'Tabby',\n",
    "            'description': 'Snowflake is a playful kitten who loves roaming the house and exploring.',\n",
    "            'url': 'https://codecademy-content.s3.amazonaws.com/programs/flask/introduction-to-flask/cat-snowflake.jpeg'\n",
    "        }\n",
    "    ],\n",
    "    'rabbits': [\n",
    "        {\n",
    "            'name': 'Easter',\n",
    "            'age': 4,\n",
    "            'breed': 'Mini Rex',\n",
    "            'description': 'Easter is a sweet, gentle rabbit who likes spending most of the day sleeping.',\n",
    "            'url': 'https://codecademy-content.s3.amazonaws.com/programs/flask/introduction-to-flask/rabbit-easter.jpeg'\n",
    "        }\n",
    "    ]\n",
    "}\n",
    "\n",
    "\n",
    "html = \"<h1>List of pets</h1>\"\n",
    "html += \"<ul>\"\n",
    "\n",
    "pet_type = 'dogs'\n",
    "res = pets.get(pet_type)\n",
    "print(res)\n",
    "\n",
    "for index, i in enumerate(res):\n",
    "    name = i.get(\"name\")\n",
    "    html += \"<li>\" + f'<a href=\"/animals/{pet_type}/{index}\">' + name + \"</a>\" + \"</li>\"\n",
    "html += \"</ul>\"\n",
    "print(html)\n"
   ]
  },
  {
   "cell_type": "code",
   "execution_count": null,
   "metadata": {},
   "outputs": [],
   "source": []
  }
 ],
 "metadata": {
  "kernelspec": {
   "display_name": "Python 3",
   "language": "python",
   "name": "python3"
  },
  "language_info": {
   "codemirror_mode": {
    "name": "ipython",
    "version": 3
   },
   "file_extension": ".py",
   "mimetype": "text/x-python",
   "name": "python",
   "nbconvert_exporter": "python",
   "pygments_lexer": "ipython3",
   "version": "3.7.4"
  }
 },
 "nbformat": 4,
 "nbformat_minor": 2
}
